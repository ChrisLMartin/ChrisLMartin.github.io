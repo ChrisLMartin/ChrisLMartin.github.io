{
 "cells": [
  {
   "cell_type": "markdown",
   "metadata": {},
   "source": [
    "# Rosalind\n",
    "## Bioinformatics Stronghold Problems"
   ]
  },
  {
   "cell_type": "markdown",
   "metadata": {},
   "source": [
    "### [Computing GC Content](http://rosalind.info/problems/gc/)"
   ]
  },
  {
   "cell_type": "code",
   "execution_count": 19,
   "metadata": {},
   "outputs": [
    {
     "name": "stdout",
     "output_type": "stream",
     "text": [
      "Input file (ellipsis indicates continued DNA string):\n",
      ">Rosalind_3714\n",
      "AATCCGTATCACGCCGTGATCTACAGTTGAAAAGAGTTATTGGGCACCCTTCCTAGCCAC\n",
      "TGATGAGAGCGCGTGGGCTGGTTGTCCCTTTTCCTCAGAAGTGCTTAGGCCATACGGCCT\n",
      "...\n",
      ">Rosalind_3190\n",
      "TCTTTGTCAAATGTAGCTATCGACGGGCCGAGTCGTACTAGCATTCAGTCCGTGGGCCTA\n",
      "CACGTATAGCTAAGTAGTAAGTGCGAATGCCGAGTTGGCTGTAGCCGTAAGCATTATCTT\n",
      "...\n",
      "etc.\n",
      "\n",
      "Output file:\n",
      "Rosalind_3055\n",
      "51.31004366812227\n"
     ]
    }
   ],
   "source": [
    "from collections import defaultdict\n",
    "\n",
    "with open(\"./rosalind_gc.txt\", \n",
    "          \"r\") as in_file, open(\"./out_gc.txt\", \"w\") as out_file:\n",
    "    \n",
    "    lines = [x for x in in_file.readlines()]\n",
    "    \n",
    "    keys = []\n",
    "    values = []\n",
    "    \n",
    "    for line in lines:\n",
    "        if line.startswith(\">\"):\n",
    "            values.append(\"\")\n",
    "            keys.append(line.lstrip('>').rstrip('\\n'))\n",
    "        else:\n",
    "            values[len(keys)-1] += line.rstrip('\\n')\n",
    "            \n",
    "    d = dict(zip(keys, values))\n",
    "    \n",
    "    for k, dna in d.items():\n",
    "        base_counts = defaultdict(int)\n",
    "        base_pct = defaultdict(int)\n",
    "        for base in dna:\n",
    "            base_counts[base] += 1\n",
    "        for base in base_counts.keys():\n",
    "            base_pct[base] = base_counts[base] / sum(base_counts.values()) * 100\n",
    "        d[k] = base_pct['G'] + base_pct['C']     \n",
    "    \n",
    "    max_key = max(d.keys(), key=(lambda key: d[key]))    \n",
    "    \n",
    "#     Will just print instead of write file\n",
    "#     out_file.write(\"{}\\n{}\".format(max_key, d[max_key]))\n",
    "    \n",
    "    print(\"Input file (ellipsis indicates continued DNA string):\")\n",
    "    for line in lines[:3]:\n",
    "        print(line, end='')\n",
    "    print(\"...\")\n",
    "    for line in lines[18:21]:\n",
    "        print(line, end='')\n",
    "    print(\"...\")\n",
    "    print(\"etc.\\n\")\n",
    "    \n",
    "    print(\"Output file:\")\n",
    "    print(\"{}\\n{}\".format(max_key, d[max_key]))"
   ]
  }
 ],
 "metadata": {
  "kernelspec": {
   "display_name": "Python 3",
   "language": "python",
   "name": "python3"
  },
  "language_info": {
   "codemirror_mode": {
    "name": "ipython",
    "version": 3
   },
   "file_extension": ".py",
   "mimetype": "text/x-python",
   "name": "python",
   "nbconvert_exporter": "python",
   "pygments_lexer": "ipython3",
   "version": "3.6.4"
  }
 },
 "nbformat": 4,
 "nbformat_minor": 2
}
